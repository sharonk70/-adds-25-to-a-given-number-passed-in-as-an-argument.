{
 "cells": [
  {
   "cell_type": "code",
   "execution_count": 1,
   "id": "123b6b3a",
   "metadata": {},
   "outputs": [
    {
     "name": "stdout",
     "output_type": "stream",
     "text": [
      "Number ->10\n",
      "35\n"
     ]
    }
   ],
   "source": [
    "x = lambda y : y + 25\n",
    "print(x(int(input('Number ->'))))"
   ]
  },
  {
   "cell_type": "code",
   "execution_count": null,
   "id": "8452b4e1",
   "metadata": {},
   "outputs": [],
   "source": []
  }
 ],
 "metadata": {
  "kernelspec": {
   "display_name": "Python 3",
   "language": "python",
   "name": "python3"
  },
  "language_info": {
   "codemirror_mode": {
    "name": "ipython",
    "version": 3
   },
   "file_extension": ".py",
   "mimetype": "text/x-python",
   "name": "python",
   "nbconvert_exporter": "python",
   "pygments_lexer": "ipython3",
   "version": "3.8.8"
  }
 },
 "nbformat": 4,
 "nbformat_minor": 5
}
